{
 "cells": [
  {
   "cell_type": "code",
   "execution_count": 3,
   "metadata": {},
   "outputs": [],
   "source": [
    "import parsing"
   ]
  },
  {
   "cell_type": "code",
   "execution_count": null,
   "metadata": {},
   "outputs": [],
   "source": []
  },
  {
   "cell_type": "code",
   "execution_count": 4,
   "metadata": {},
   "outputs": [],
   "source": [
    "pathpong=\"C:\\\\Users\\\\chava\\\\Desktop\\\\nand2tetris\\\\nand2tetris\\\\projects\\\\11\\\\Pong\""
   ]
  },
  {
   "cell_type": "code",
   "execution_count": 5,
   "metadata": {},
   "outputs": [
    {
     "name": "stdout",
     "output_type": "stream",
     "text": [
      "Start tokenizing...\n",
      "end tokenizing\n",
      "end tokenizing\n",
      "end tokenizing\n",
      "end tokenizing\n"
     ]
    }
   ],
   "source": [
    "parsing.tokenizing(pathpong)"
   ]
  },
  {
   "cell_type": "code",
   "execution_count": 6,
   "metadata": {},
   "outputs": [
    {
     "name": "stdout",
     "output_type": "stream",
     "text": [
      "Start parsing...\n",
      "2222\n",
      "6\n",
      "2222\n",
      "2222\n",
      "6\n",
      "2222\n",
      "2222\n",
      "0\n",
      "2222\n",
      "[['x', ('int', 'field', 0)], ['y', ('int', 'field', 1)], ['lengthx', ('int', 'field', 2)], ['lengthy', ('int', 'field', 3)], ['d', ('int', 'field', 4)], ['straightD', ('int', 'field', 5)], ['diagonalD', ('int', 'field', 6)], ['invert', ('boolean', 'field', 7)], ['positivex', ('boolean', 'field', 8)], ['positivey', ('boolean', 'field', 9)], ['leftWall', ('int', 'field', 10)], ['rightWall', ('int', 'field', 11)], ['topWall', ('int', 'field', 12)], ['bottomWall', ('int', 'field', 13)], ['wall', ('int', 'field', 14)]]\n",
      "[['Ax', ('int', 'argument', 1)], ['Ay', ('int', 'argument', 2)], ['AleftWall', ('int', 'argument', 3)], ['ArightWall', ('int', 'argument', 4)], ['AtopWall', ('int', 'argument', 5)], ['AbottomWall', ('int', 'argument', 6)]]\n",
      "Ball\n",
      "6\n",
      "0\n",
      "end parsing\n",
      "2222\n",
      "2\n",
      "2222\n",
      "[['x', ('int', 'field', 0)], ['y', ('int', 'field', 1)], ['width', ('int', 'field', 2)], ['height', ('int', 'field', 3)], ['direction', ('int', 'field', 4)]]\n",
      "[['Ax', ('int', 'argument', 1)], ['Ay', ('int', 'argument', 2)], ['Awidth', ('int', 'argument', 3)], ['Aheight', ('int', 'argument', 4)]]\n",
      "Bat\n",
      "4\n",
      "0\n",
      "end parsing\n",
      "fdfffffffffffffffffffffff\n",
      "fdfffffffffffffffffffffff\n",
      "[]\n",
      "[['game', ('PongGame', 'local', 0)]]\n",
      "Main\n",
      "0\n",
      "1\n",
      "end parsing\n",
      "2222\n",
      "50\n",
      "2222\n",
      "2222\n",
      "230\n",
      "2222\n",
      "2222\n",
      "229\n",
      "2222\n",
      "2222\n",
      "7\n",
      "2222\n",
      "2222\n",
      "253\n",
      "2222\n",
      "2222\n",
      "222\n",
      "2222\n",
      "2222\n",
      "0\n",
      "2222\n",
      "2222\n",
      "511\n",
      "2222\n",
      "2222\n",
      "0\n",
      "2222\n",
      "2222\n",
      "229\n",
      "2222\n",
      "fdfffffffffffffffffffffff\n",
      "2222\n",
      "400\n",
      "2222\n",
      "2222\n",
      "0\n",
      "2222\n",
      "2222\n",
      "0\n",
      "2222\n",
      "2222\n",
      "238\n",
      "2222\n",
      "2222\n",
      "511\n",
      "2222\n",
      "2222\n",
      "240\n",
      "2222\n",
      "2222\n",
      "22\n",
      "2222\n",
      "2222\n",
      "0\n",
      "2222\n",
      "2222\n",
      "0\n",
      "2222\n",
      "2222\n",
      "0\n",
      "2222\n",
      "2222\n",
      "0\n",
      "2222\n",
      "fdfffffffffffffffffffffff\n",
      "fdfffffffffffffffffffffff\n",
      "2222\n",
      "0\n",
      "2222\n",
      "fdfffffffffffffffffffffff\n",
      "[['instance', ('PongGame', 'static', 0)], ['bat', ('Bat', 'field', 0)], ['ball', ('Ball', 'field', 1)], ['wall', ('int', 'field', 2)], ['exit', ('boolean', 'field', 3)], ['score', ('int', 'field', 4)], ['lastWall', ('int', 'field', 5)], ['batWidth', ('int', 'field', 6)]]\n",
      "[['this', ('PongGame', 'argument', 0)], ['key', ('char', 'local', 0)]]\n",
      "PongGame\n",
      "0\n",
      "1\n",
      "end parsing\n"
     ]
    }
   ],
   "source": [
    "parsing.parsing(pathpong)"
   ]
  },
  {
   "cell_type": "code",
   "execution_count": null,
   "metadata": {},
   "outputs": [],
   "source": []
  }
 ],
 "metadata": {
  "kernelspec": {
   "display_name": "Python 3",
   "language": "python",
   "name": "python3"
  },
  "language_info": {
   "codemirror_mode": {
    "name": "ipython",
    "version": 3
   },
   "file_extension": ".py",
   "mimetype": "text/x-python",
   "name": "python",
   "nbconvert_exporter": "python",
   "pygments_lexer": "ipython3",
   "version": "3.7.6"
  }
 },
 "nbformat": 4,
 "nbformat_minor": 4
}
