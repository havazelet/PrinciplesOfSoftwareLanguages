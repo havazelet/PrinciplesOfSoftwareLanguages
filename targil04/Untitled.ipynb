{
 "cells": [
  {
   "cell_type": "code",
   "execution_count": 1,
   "metadata": {},
   "outputs": [],
   "source": [
    "import parsing"
   ]
  },
  {
   "cell_type": "code",
   "execution_count": 2,
   "metadata": {},
   "outputs": [],
   "source": [
    "path=\"C:\\\\Users\\\\chava\\\\Desktop\\\\stam\""
   ]
  },
  {
   "cell_type": "code",
   "execution_count": 3,
   "metadata": {},
   "outputs": [
    {
     "name": "stdout",
     "output_type": "stream",
     "text": [
      "Start tokenizing...\n",
      "end tokenizing\n"
     ]
    }
   ],
   "source": [
    "parsing.tokenizing(path)"
   ]
  },
  {
   "cell_type": "code",
   "execution_count": 4,
   "metadata": {},
   "outputs": [
    {
     "name": "stdout",
     "output_type": "stream",
     "text": [
      "Start parsing...\n",
      "end parsing\n"
     ]
    }
   ],
   "source": [
    "parsing.parsing(path)"
   ]
  },
  {
   "cell_type": "code",
   "execution_count": null,
   "metadata": {},
   "outputs": [],
   "source": []
  },
  {
   "cell_type": "code",
   "execution_count": null,
   "metadata": {},
   "outputs": [],
   "source": []
  },
  {
   "cell_type": "code",
   "execution_count": 4,
   "metadata": {},
   "outputs": [],
   "source": [
    "path1=\"C:\\\\Users\\\\chava\\\\Desktop\\\\עקרונות\\\\nand2tetris\\\\projects\\\\10\\\\ArrayTest\""
   ]
  },
  {
   "cell_type": "code",
   "execution_count": 5,
   "metadata": {},
   "outputs": [
    {
     "name": "stdout",
     "output_type": "stream",
     "text": [
      "Start tokenizing...\n",
      "end tokenizing\n"
     ]
    }
   ],
   "source": [
    "parsing.tokenizing(path1)"
   ]
  },
  {
   "cell_type": "code",
   "execution_count": 6,
   "metadata": {},
   "outputs": [
    {
     "name": "stdout",
     "output_type": "stream",
     "text": [
      "Start parsing...\n",
      "end parsing\n"
     ]
    }
   ],
   "source": [
    "parsing.parsing(path1)"
   ]
  },
  {
   "cell_type": "code",
   "execution_count": null,
   "metadata": {},
   "outputs": [],
   "source": []
  },
  {
   "cell_type": "code",
   "execution_count": 7,
   "metadata": {},
   "outputs": [],
   "source": [
    "path2=\"C:\\\\Users\\\\chava\\\\Desktop\\\\עקרונות\\\\nand2tetris\\\\projects\\\\10\\\\ExpressionLessSquare\""
   ]
  },
  {
   "cell_type": "code",
   "execution_count": 8,
   "metadata": {},
   "outputs": [
    {
     "name": "stdout",
     "output_type": "stream",
     "text": [
      "Start tokenizing...\n",
      "end tokenizing\n",
      "end tokenizing\n",
      "end tokenizing\n"
     ]
    }
   ],
   "source": [
    "parsing.tokenizing(path2)"
   ]
  },
  {
   "cell_type": "code",
   "execution_count": 9,
   "metadata": {},
   "outputs": [
    {
     "name": "stdout",
     "output_type": "stream",
     "text": [
      "Start parsing...\n",
      "end parsing\n",
      "end parsing\n",
      "end parsing\n"
     ]
    }
   ],
   "source": [
    "parsing.parsing(path2)"
   ]
  },
  {
   "cell_type": "code",
   "execution_count": null,
   "metadata": {},
   "outputs": [],
   "source": []
  },
  {
   "cell_type": "code",
   "execution_count": 10,
   "metadata": {},
   "outputs": [],
   "source": [
    "path3=\"C:\\\\Users\\\\chava\\\\Desktop\\\\עקרונות\\\\nand2tetris\\\\projects\\\\10\\\\Square\""
   ]
  },
  {
   "cell_type": "code",
   "execution_count": 11,
   "metadata": {},
   "outputs": [
    {
     "name": "stdout",
     "output_type": "stream",
     "text": [
      "Start tokenizing...\n",
      "end tokenizing\n",
      "end tokenizing\n",
      "end tokenizing\n"
     ]
    }
   ],
   "source": [
    "parsing.tokenizing(path3)"
   ]
  },
  {
   "cell_type": "code",
   "execution_count": 12,
   "metadata": {},
   "outputs": [
    {
     "name": "stdout",
     "output_type": "stream",
     "text": [
      "Start parsing...\n",
      "end parsing\n",
      "end parsing\n",
      "end parsing\n"
     ]
    }
   ],
   "source": [
    "parsing.parsing(path3)"
   ]
  },
  {
   "cell_type": "code",
   "execution_count": null,
   "metadata": {},
   "outputs": [],
   "source": []
  },
  {
   "cell_type": "code",
   "execution_count": 13,
   "metadata": {},
   "outputs": [],
   "source": [
    "#---------------------הגשה----------------------------------"
   ]
  },
  {
   "cell_type": "code",
   "execution_count": 14,
   "metadata": {},
   "outputs": [],
   "source": [
    "path_ArrayTest=\"C:\\\\Users\\\\chava\\\\Desktop\\\\עקרונות\\\\targi04\\\\10\\\\ArrayTest\""
   ]
  },
  {
   "cell_type": "code",
   "execution_count": 15,
   "metadata": {},
   "outputs": [],
   "source": [
    "path_ExpressionLessSquare=\"C:\\\\Users\\\\chava\\\\Desktop\\\\עקרונות\\\\targi04\\\\10\\\\ExpressionLessSquare\""
   ]
  },
  {
   "cell_type": "code",
   "execution_count": 16,
   "metadata": {},
   "outputs": [],
   "source": [
    "path_Square=\"C:\\\\Users\\\\chava\\\\Desktop\\\\עקרונות\\\\targi04\\\\10\\\\Square\""
   ]
  },
  {
   "cell_type": "code",
   "execution_count": 17,
   "metadata": {},
   "outputs": [
    {
     "name": "stdout",
     "output_type": "stream",
     "text": [
      "Start tokenizing...\n",
      "end tokenizing\n"
     ]
    }
   ],
   "source": [
    "parsing.tokenizing(path_ArrayTest)"
   ]
  },
  {
   "cell_type": "code",
   "execution_count": 18,
   "metadata": {},
   "outputs": [
    {
     "name": "stdout",
     "output_type": "stream",
     "text": [
      "Start parsing...\n",
      "end parsing\n"
     ]
    }
   ],
   "source": [
    "parsing.parsing(path_ArrayTest)"
   ]
  },
  {
   "cell_type": "code",
   "execution_count": 19,
   "metadata": {},
   "outputs": [
    {
     "name": "stdout",
     "output_type": "stream",
     "text": [
      "Start tokenizing...\n",
      "end tokenizing\n",
      "end tokenizing\n",
      "end tokenizing\n"
     ]
    }
   ],
   "source": [
    "parsing.tokenizing(path_ExpressionLessSquare)"
   ]
  },
  {
   "cell_type": "code",
   "execution_count": 20,
   "metadata": {},
   "outputs": [
    {
     "name": "stdout",
     "output_type": "stream",
     "text": [
      "Start parsing...\n",
      "end parsing\n",
      "end parsing\n",
      "end parsing\n"
     ]
    }
   ],
   "source": [
    "parsing.parsing(path_ExpressionLessSquare)"
   ]
  },
  {
   "cell_type": "code",
   "execution_count": 21,
   "metadata": {},
   "outputs": [
    {
     "name": "stdout",
     "output_type": "stream",
     "text": [
      "Start tokenizing...\n",
      "end tokenizing\n",
      "end tokenizing\n",
      "end tokenizing\n"
     ]
    }
   ],
   "source": [
    "parsing.tokenizing(path_Square)"
   ]
  },
  {
   "cell_type": "code",
   "execution_count": 22,
   "metadata": {},
   "outputs": [
    {
     "name": "stdout",
     "output_type": "stream",
     "text": [
      "Start parsing...\n",
      "end parsing\n",
      "end parsing\n",
      "end parsing\n"
     ]
    }
   ],
   "source": [
    "parsing.parsing(path_Square)"
   ]
  },
  {
   "cell_type": "code",
   "execution_count": null,
   "metadata": {},
   "outputs": [],
   "source": []
  },
  {
   "cell_type": "code",
   "execution_count": null,
   "metadata": {},
   "outputs": [],
   "source": []
  }
 ],
 "metadata": {
  "kernelspec": {
   "display_name": "Python 3",
   "language": "python",
   "name": "python3"
  },
  "language_info": {
   "codemirror_mode": {
    "name": "ipython",
    "version": 3
   },
   "file_extension": ".py",
   "mimetype": "text/x-python",
   "name": "python",
   "nbconvert_exporter": "python",
   "pygments_lexer": "ipython3",
   "version": "3.7.6"
  }
 },
 "nbformat": 4,
 "nbformat_minor": 4
}
