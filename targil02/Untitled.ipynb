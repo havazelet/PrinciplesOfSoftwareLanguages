{
 "cells": [
  {
   "cell_type": "code",
   "execution_count": 1,
   "metadata": {},
   "outputs": [],
   "source": [
    "import targil01"
   ]
  },
  {
   "cell_type": "code",
   "execution_count": 2,
   "metadata": {},
   "outputs": [],
   "source": [
    "path1 =\"C:\\\\Users\\\\chava\\\\Desktop\\\\עקרונות\\\\nand2tetris\\\\projects\\\\07\\\\MemoryAccess\\\\BasicTest\"\n",
    "path2=\"C:\\\\Users\\\\chava\\\\Desktop\\\\עקרונות\\\\nand2tetris\\\\projects\\\\07\\\\MemoryAccess\\\\PointerTest\"\n",
    "path3=\"C:\\\\Users\\\\chava\\\\Desktop\\\\עקרונות\\\\nand2tetris\\\\projects\\\\07\\\\MemoryAccess\\\\StaticTest\"\n",
    "path4=\"C:\\\\Users\\\\chava\\\\Desktop\\\\עקרונות\\\\nand2tetris\\\\projects\\\\07\\\\StackArithmetic\\\\SimpleAdd\"\n",
    "path5=\"C:\\\\Users\\\\chava\\\\Desktop\\\\עקרונות\\\\nand2tetris\\\\projects\\\\07\\\\StackArithmetic\\\\StackTest\""
   ]
  },
  {
   "cell_type": "code",
   "execution_count": 3,
   "metadata": {},
   "outputs": [
    {
     "name": "stdout",
     "output_type": "stream",
     "text": [
      "Start compilation...\n",
      "Parse file BasicTest.vm\n",
      "end\n"
     ]
    }
   ],
   "source": [
    "targil01.compile(path1)"
   ]
  },
  {
   "cell_type": "code",
   "execution_count": 4,
   "metadata": {},
   "outputs": [
    {
     "name": "stdout",
     "output_type": "stream",
     "text": [
      "Start compilation...\n",
      "Parse file PointerTest.vm\n",
      "end\n"
     ]
    }
   ],
   "source": [
    "targil01.compile(path2)"
   ]
  },
  {
   "cell_type": "code",
   "execution_count": 5,
   "metadata": {},
   "outputs": [
    {
     "name": "stdout",
     "output_type": "stream",
     "text": [
      "Start compilation...\n",
      "Parse file StaticTest.vm\n",
      "end\n"
     ]
    }
   ],
   "source": [
    "targil01.compile(path3)"
   ]
  },
  {
   "cell_type": "code",
   "execution_count": 6,
   "metadata": {},
   "outputs": [
    {
     "name": "stdout",
     "output_type": "stream",
     "text": [
      "Start compilation...\n",
      "Parse file SimpleAdd.vm\n",
      "end\n"
     ]
    }
   ],
   "source": [
    "targil01.compile(path4)"
   ]
  },
  {
   "cell_type": "code",
   "execution_count": 7,
   "metadata": {},
   "outputs": [
    {
     "name": "stdout",
     "output_type": "stream",
     "text": [
      "Start compilation...\n",
      "Parse file StackTest.vm\n",
      "end\n"
     ]
    }
   ],
   "source": [
    "targil01.compile(path5)"
   ]
  },
  {
   "cell_type": "code",
   "execution_count": 8,
   "metadata": {},
   "outputs": [],
   "source": [
    "#--------------targil02-------------------------\n"
   ]
  },
  {
   "cell_type": "code",
   "execution_count": 9,
   "metadata": {},
   "outputs": [],
   "source": [
    "path6=\"C:\\\\Users\\\\chava\\\\Desktop\\\\עקרונות\\\\nand2tetris\\\\projects\\\\08\\\\ProgramFlow\\\\BasicLoop\"\n",
    "path7=\"C:\\\\Users\\\\chava\\\\Desktop\\\\עקרונות\\\\nand2tetris\\\\projects\\\\08\\\\ProgramFlow\\\\FibonacciSeries\"\n",
    "path8=\"C:\\\\Users\\\\chava\\\\Desktop\\\\עקרונות\\\\nand2tetris\\\\projects\\\\08\\\\FunctionCalls\\\\FibonacciElement\"\n",
    "path9=\"C:\\\\Users\\\\chava\\\\Desktop\\\\עקרונות\\\\nand2tetris\\\\projects\\\\08\\\\FunctionCalls\\\\NestedCall\"\n",
    "path10=\"C:\\\\Users\\\\chava\\\\Desktop\\\\עקרונות\\\\nand2tetris\\\\projects\\\\08\\\\FunctionCalls\\\\SimpleFunction\"\n",
    "path11=\"C:\\\\Users\\\\chava\\\\Desktop\\\\עקרונות\\\\nand2tetris\\\\projects\\\\08\\\\FunctionCalls\\\\StaticsTest\""
   ]
  },
  {
   "cell_type": "code",
   "execution_count": 10,
   "metadata": {},
   "outputs": [
    {
     "name": "stdout",
     "output_type": "stream",
     "text": [
      "Start compilation...\n",
      "Parse file BasicLoop.vm\n",
      "end\n"
     ]
    }
   ],
   "source": [
    "targil01.compile(path6)"
   ]
  },
  {
   "cell_type": "code",
   "execution_count": 11,
   "metadata": {},
   "outputs": [
    {
     "name": "stdout",
     "output_type": "stream",
     "text": [
      "Start compilation...\n",
      "Parse file FibonacciSeries.vm\n",
      "end\n"
     ]
    }
   ],
   "source": [
    "targil01.compile(path7)"
   ]
  },
  {
   "cell_type": "code",
   "execution_count": 12,
   "metadata": {},
   "outputs": [
    {
     "name": "stdout",
     "output_type": "stream",
     "text": [
      "init\n",
      "Start compilation...\n",
      "Parse file Main.vm\n",
      "Parse file Sys.vm\n",
      "end\n"
     ]
    }
   ],
   "source": [
    "targil01.compile(path8)"
   ]
  },
  {
   "cell_type": "code",
   "execution_count": 13,
   "metadata": {},
   "outputs": [
    {
     "name": "stdout",
     "output_type": "stream",
     "text": [
      "Start compilation...\n",
      "Parse file Sys.vm\n",
      "end\n"
     ]
    }
   ],
   "source": [
    "targil01.compile(path9)"
   ]
  },
  {
   "cell_type": "code",
   "execution_count": 14,
   "metadata": {},
   "outputs": [
    {
     "name": "stdout",
     "output_type": "stream",
     "text": [
      "Start compilation...\n",
      "Parse file SimpleFunction.vm\n",
      "end\n"
     ]
    }
   ],
   "source": [
    "targil01.compile(path10)"
   ]
  },
  {
   "cell_type": "code",
   "execution_count": 15,
   "metadata": {},
   "outputs": [
    {
     "name": "stdout",
     "output_type": "stream",
     "text": [
      "init\n",
      "Start compilation...\n",
      "Parse file Class1.vm\n",
      "Parse file Class2.vm\n",
      "Parse file Sys.vm\n",
      "end\n"
     ]
    }
   ],
   "source": [
    "targil01.compile(path11)"
   ]
  },
  {
   "cell_type": "code",
   "execution_count": null,
   "metadata": {},
   "outputs": [],
   "source": []
  },
  {
   "cell_type": "code",
   "execution_count": 16,
   "metadata": {},
   "outputs": [],
   "source": [
    "pathTemp=\"C:\\\\Users\\\\chava\\\\Desktop\\\\Exercises\\\\Exercises\\\\Targil2\\\\project 08\\\\FunctionCalls\\\\SimpleFunction\""
   ]
  },
  {
   "cell_type": "code",
   "execution_count": 17,
   "metadata": {},
   "outputs": [
    {
     "name": "stdout",
     "output_type": "stream",
     "text": [
      "Start compilation...\n",
      "Parse file SimpleFunction.vm\n",
      "end\n"
     ]
    }
   ],
   "source": [
    "targil01.compile(pathTemp)"
   ]
  },
  {
   "cell_type": "code",
   "execution_count": null,
   "metadata": {},
   "outputs": [],
   "source": []
  },
  {
   "cell_type": "code",
   "execution_count": null,
   "metadata": {},
   "outputs": [],
   "source": []
  },
  {
   "cell_type": "code",
   "execution_count": null,
   "metadata": {},
   "outputs": [],
   "source": []
  }
 ],
 "metadata": {
  "kernelspec": {
   "display_name": "Python 3",
   "language": "python",
   "name": "python3"
  },
  "language_info": {
   "codemirror_mode": {
    "name": "ipython",
    "version": 3
   },
   "file_extension": ".py",
   "mimetype": "text/x-python",
   "name": "python",
   "nbconvert_exporter": "python",
   "pygments_lexer": "ipython3",
   "version": "3.7.6"
  }
 },
 "nbformat": 4,
 "nbformat_minor": 4
}
